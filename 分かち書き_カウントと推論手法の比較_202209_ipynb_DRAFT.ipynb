{
  "nbformat": 4,
  "nbformat_minor": 0,
  "metadata": {
    "colab": {
      "provenance": [],
      "collapsed_sections": [],
      "authorship_tag": "ABX9TyPsXlHvz04zNbPwi+Dlf3os",
      "include_colab_link": true
    },
    "kernelspec": {
      "name": "python3",
      "display_name": "Python 3"
    },
    "language_info": {
      "name": "python"
    },
    "widgets": {
      "application/vnd.jupyter.widget-state+json": {
        "d9670a49252d4406b046374f20f7f8a6": {
          "model_module": "@jupyter-widgets/controls",
          "model_name": "HBoxModel",
          "model_module_version": "1.5.0",
          "state": {
            "_dom_classes": [],
            "_model_module": "@jupyter-widgets/controls",
            "_model_module_version": "1.5.0",
            "_model_name": "HBoxModel",
            "_view_count": null,
            "_view_module": "@jupyter-widgets/controls",
            "_view_module_version": "1.5.0",
            "_view_name": "HBoxView",
            "box_style": "",
            "children": [
              "IPY_MODEL_cafdcdd91fd54a74a04e613681322922",
              "IPY_MODEL_1227abd9fc37412580589c3b4bfc737a",
              "IPY_MODEL_4faad88f3a584476bcd15a0122a33e4c"
            ],
            "layout": "IPY_MODEL_eb0b6465e608495cb4e1364befc90e5c"
          }
        },
        "cafdcdd91fd54a74a04e613681322922": {
          "model_module": "@jupyter-widgets/controls",
          "model_name": "HTMLModel",
          "model_module_version": "1.5.0",
          "state": {
            "_dom_classes": [],
            "_model_module": "@jupyter-widgets/controls",
            "_model_module_version": "1.5.0",
            "_model_name": "HTMLModel",
            "_view_count": null,
            "_view_module": "@jupyter-widgets/controls",
            "_view_module_version": "1.5.0",
            "_view_name": "HTMLView",
            "description": "",
            "description_tooltip": null,
            "layout": "IPY_MODEL_82ee49c739854492a5d9575a50fe760e",
            "placeholder": "​",
            "style": "IPY_MODEL_f42d39515eab4d0b846bfd3b6dc7b83f",
            "value": "Downloading: 100%"
          }
        },
        "1227abd9fc37412580589c3b4bfc737a": {
          "model_module": "@jupyter-widgets/controls",
          "model_name": "FloatProgressModel",
          "model_module_version": "1.5.0",
          "state": {
            "_dom_classes": [],
            "_model_module": "@jupyter-widgets/controls",
            "_model_module_version": "1.5.0",
            "_model_name": "FloatProgressModel",
            "_view_count": null,
            "_view_module": "@jupyter-widgets/controls",
            "_view_module_version": "1.5.0",
            "_view_name": "ProgressView",
            "bar_style": "success",
            "description": "",
            "description_tooltip": null,
            "layout": "IPY_MODEL_8137f5bd8e66484abbaf5d91da8c899f",
            "max": 257706,
            "min": 0,
            "orientation": "horizontal",
            "style": "IPY_MODEL_cbfdc99f3fe54c0f838547a32e046b84",
            "value": 257706
          }
        },
        "4faad88f3a584476bcd15a0122a33e4c": {
          "model_module": "@jupyter-widgets/controls",
          "model_name": "HTMLModel",
          "model_module_version": "1.5.0",
          "state": {
            "_dom_classes": [],
            "_model_module": "@jupyter-widgets/controls",
            "_model_module_version": "1.5.0",
            "_model_name": "HTMLModel",
            "_view_count": null,
            "_view_module": "@jupyter-widgets/controls",
            "_view_module_version": "1.5.0",
            "_view_name": "HTMLView",
            "description": "",
            "description_tooltip": null,
            "layout": "IPY_MODEL_124d78f734d542969bec8b878fe2b8eb",
            "placeholder": "​",
            "style": "IPY_MODEL_0824488b306a44ee97cdaeb1ae38a3c1",
            "value": " 252k/252k [00:00&lt;00:00, 4.22MB/s]"
          }
        },
        "eb0b6465e608495cb4e1364befc90e5c": {
          "model_module": "@jupyter-widgets/base",
          "model_name": "LayoutModel",
          "model_module_version": "1.2.0",
          "state": {
            "_model_module": "@jupyter-widgets/base",
            "_model_module_version": "1.2.0",
            "_model_name": "LayoutModel",
            "_view_count": null,
            "_view_module": "@jupyter-widgets/base",
            "_view_module_version": "1.2.0",
            "_view_name": "LayoutView",
            "align_content": null,
            "align_items": null,
            "align_self": null,
            "border": null,
            "bottom": null,
            "display": null,
            "flex": null,
            "flex_flow": null,
            "grid_area": null,
            "grid_auto_columns": null,
            "grid_auto_flow": null,
            "grid_auto_rows": null,
            "grid_column": null,
            "grid_gap": null,
            "grid_row": null,
            "grid_template_areas": null,
            "grid_template_columns": null,
            "grid_template_rows": null,
            "height": null,
            "justify_content": null,
            "justify_items": null,
            "left": null,
            "margin": null,
            "max_height": null,
            "max_width": null,
            "min_height": null,
            "min_width": null,
            "object_fit": null,
            "object_position": null,
            "order": null,
            "overflow": null,
            "overflow_x": null,
            "overflow_y": null,
            "padding": null,
            "right": null,
            "top": null,
            "visibility": null,
            "width": null
          }
        },
        "82ee49c739854492a5d9575a50fe760e": {
          "model_module": "@jupyter-widgets/base",
          "model_name": "LayoutModel",
          "model_module_version": "1.2.0",
          "state": {
            "_model_module": "@jupyter-widgets/base",
            "_model_module_version": "1.2.0",
            "_model_name": "LayoutModel",
            "_view_count": null,
            "_view_module": "@jupyter-widgets/base",
            "_view_module_version": "1.2.0",
            "_view_name": "LayoutView",
            "align_content": null,
            "align_items": null,
            "align_self": null,
            "border": null,
            "bottom": null,
            "display": null,
            "flex": null,
            "flex_flow": null,
            "grid_area": null,
            "grid_auto_columns": null,
            "grid_auto_flow": null,
            "grid_auto_rows": null,
            "grid_column": null,
            "grid_gap": null,
            "grid_row": null,
            "grid_template_areas": null,
            "grid_template_columns": null,
            "grid_template_rows": null,
            "height": null,
            "justify_content": null,
            "justify_items": null,
            "left": null,
            "margin": null,
            "max_height": null,
            "max_width": null,
            "min_height": null,
            "min_width": null,
            "object_fit": null,
            "object_position": null,
            "order": null,
            "overflow": null,
            "overflow_x": null,
            "overflow_y": null,
            "padding": null,
            "right": null,
            "top": null,
            "visibility": null,
            "width": null
          }
        },
        "f42d39515eab4d0b846bfd3b6dc7b83f": {
          "model_module": "@jupyter-widgets/controls",
          "model_name": "DescriptionStyleModel",
          "model_module_version": "1.5.0",
          "state": {
            "_model_module": "@jupyter-widgets/controls",
            "_model_module_version": "1.5.0",
            "_model_name": "DescriptionStyleModel",
            "_view_count": null,
            "_view_module": "@jupyter-widgets/base",
            "_view_module_version": "1.2.0",
            "_view_name": "StyleView",
            "description_width": ""
          }
        },
        "8137f5bd8e66484abbaf5d91da8c899f": {
          "model_module": "@jupyter-widgets/base",
          "model_name": "LayoutModel",
          "model_module_version": "1.2.0",
          "state": {
            "_model_module": "@jupyter-widgets/base",
            "_model_module_version": "1.2.0",
            "_model_name": "LayoutModel",
            "_view_count": null,
            "_view_module": "@jupyter-widgets/base",
            "_view_module_version": "1.2.0",
            "_view_name": "LayoutView",
            "align_content": null,
            "align_items": null,
            "align_self": null,
            "border": null,
            "bottom": null,
            "display": null,
            "flex": null,
            "flex_flow": null,
            "grid_area": null,
            "grid_auto_columns": null,
            "grid_auto_flow": null,
            "grid_auto_rows": null,
            "grid_column": null,
            "grid_gap": null,
            "grid_row": null,
            "grid_template_areas": null,
            "grid_template_columns": null,
            "grid_template_rows": null,
            "height": null,
            "justify_content": null,
            "justify_items": null,
            "left": null,
            "margin": null,
            "max_height": null,
            "max_width": null,
            "min_height": null,
            "min_width": null,
            "object_fit": null,
            "object_position": null,
            "order": null,
            "overflow": null,
            "overflow_x": null,
            "overflow_y": null,
            "padding": null,
            "right": null,
            "top": null,
            "visibility": null,
            "width": null
          }
        },
        "cbfdc99f3fe54c0f838547a32e046b84": {
          "model_module": "@jupyter-widgets/controls",
          "model_name": "ProgressStyleModel",
          "model_module_version": "1.5.0",
          "state": {
            "_model_module": "@jupyter-widgets/controls",
            "_model_module_version": "1.5.0",
            "_model_name": "ProgressStyleModel",
            "_view_count": null,
            "_view_module": "@jupyter-widgets/base",
            "_view_module_version": "1.2.0",
            "_view_name": "StyleView",
            "bar_color": null,
            "description_width": ""
          }
        },
        "124d78f734d542969bec8b878fe2b8eb": {
          "model_module": "@jupyter-widgets/base",
          "model_name": "LayoutModel",
          "model_module_version": "1.2.0",
          "state": {
            "_model_module": "@jupyter-widgets/base",
            "_model_module_version": "1.2.0",
            "_model_name": "LayoutModel",
            "_view_count": null,
            "_view_module": "@jupyter-widgets/base",
            "_view_module_version": "1.2.0",
            "_view_name": "LayoutView",
            "align_content": null,
            "align_items": null,
            "align_self": null,
            "border": null,
            "bottom": null,
            "display": null,
            "flex": null,
            "flex_flow": null,
            "grid_area": null,
            "grid_auto_columns": null,
            "grid_auto_flow": null,
            "grid_auto_rows": null,
            "grid_column": null,
            "grid_gap": null,
            "grid_row": null,
            "grid_template_areas": null,
            "grid_template_columns": null,
            "grid_template_rows": null,
            "height": null,
            "justify_content": null,
            "justify_items": null,
            "left": null,
            "margin": null,
            "max_height": null,
            "max_width": null,
            "min_height": null,
            "min_width": null,
            "object_fit": null,
            "object_position": null,
            "order": null,
            "overflow": null,
            "overflow_x": null,
            "overflow_y": null,
            "padding": null,
            "right": null,
            "top": null,
            "visibility": null,
            "width": null
          }
        },
        "0824488b306a44ee97cdaeb1ae38a3c1": {
          "model_module": "@jupyter-widgets/controls",
          "model_name": "DescriptionStyleModel",
          "model_module_version": "1.5.0",
          "state": {
            "_model_module": "@jupyter-widgets/controls",
            "_model_module_version": "1.5.0",
            "_model_name": "DescriptionStyleModel",
            "_view_count": null,
            "_view_module": "@jupyter-widgets/base",
            "_view_module_version": "1.2.0",
            "_view_name": "StyleView",
            "description_width": ""
          }
        },
        "bf4b72073d354b8e8d7891d82d14ea76": {
          "model_module": "@jupyter-widgets/controls",
          "model_name": "HBoxModel",
          "model_module_version": "1.5.0",
          "state": {
            "_dom_classes": [],
            "_model_module": "@jupyter-widgets/controls",
            "_model_module_version": "1.5.0",
            "_model_name": "HBoxModel",
            "_view_count": null,
            "_view_module": "@jupyter-widgets/controls",
            "_view_module_version": "1.5.0",
            "_view_name": "HBoxView",
            "box_style": "",
            "children": [
              "IPY_MODEL_e4126cf325f24a1dbe102569f4660b55",
              "IPY_MODEL_dadcb853ea8344f69a5b77c16888a180",
              "IPY_MODEL_0e533d1cd80a45fa9fd92e9c07cdcf82"
            ],
            "layout": "IPY_MODEL_00406698c8c54b67b31087bf3d9fd81c"
          }
        },
        "e4126cf325f24a1dbe102569f4660b55": {
          "model_module": "@jupyter-widgets/controls",
          "model_name": "HTMLModel",
          "model_module_version": "1.5.0",
          "state": {
            "_dom_classes": [],
            "_model_module": "@jupyter-widgets/controls",
            "_model_module_version": "1.5.0",
            "_model_name": "HTMLModel",
            "_view_count": null,
            "_view_module": "@jupyter-widgets/controls",
            "_view_module_version": "1.5.0",
            "_view_name": "HTMLView",
            "description": "",
            "description_tooltip": null,
            "layout": "IPY_MODEL_45b6b8e4c58b4c698cfafaef247aef69",
            "placeholder": "​",
            "style": "IPY_MODEL_a48b9fd636514294a297e1d43241ac55",
            "value": "Downloading: 100%"
          }
        },
        "dadcb853ea8344f69a5b77c16888a180": {
          "model_module": "@jupyter-widgets/controls",
          "model_name": "FloatProgressModel",
          "model_module_version": "1.5.0",
          "state": {
            "_dom_classes": [],
            "_model_module": "@jupyter-widgets/controls",
            "_model_module_version": "1.5.0",
            "_model_name": "FloatProgressModel",
            "_view_count": null,
            "_view_module": "@jupyter-widgets/controls",
            "_view_module_version": "1.5.0",
            "_view_name": "ProgressView",
            "bar_style": "success",
            "description": "",
            "description_tooltip": null,
            "layout": "IPY_MODEL_4fc3500781b4400c9e4c3b6906cc30ed",
            "max": 110,
            "min": 0,
            "orientation": "horizontal",
            "style": "IPY_MODEL_a421b523928144b7a7ccf01e378b7c66",
            "value": 110
          }
        },
        "0e533d1cd80a45fa9fd92e9c07cdcf82": {
          "model_module": "@jupyter-widgets/controls",
          "model_name": "HTMLModel",
          "model_module_version": "1.5.0",
          "state": {
            "_dom_classes": [],
            "_model_module": "@jupyter-widgets/controls",
            "_model_module_version": "1.5.0",
            "_model_name": "HTMLModel",
            "_view_count": null,
            "_view_module": "@jupyter-widgets/controls",
            "_view_module_version": "1.5.0",
            "_view_name": "HTMLView",
            "description": "",
            "description_tooltip": null,
            "layout": "IPY_MODEL_80ddda021c59409f9c90bb6ec061646c",
            "placeholder": "​",
            "style": "IPY_MODEL_9f6ce1d2e77b45a8b89ff8dcfb791c22",
            "value": " 110/110 [00:00&lt;00:00, 2.07kB/s]"
          }
        },
        "00406698c8c54b67b31087bf3d9fd81c": {
          "model_module": "@jupyter-widgets/base",
          "model_name": "LayoutModel",
          "model_module_version": "1.2.0",
          "state": {
            "_model_module": "@jupyter-widgets/base",
            "_model_module_version": "1.2.0",
            "_model_name": "LayoutModel",
            "_view_count": null,
            "_view_module": "@jupyter-widgets/base",
            "_view_module_version": "1.2.0",
            "_view_name": "LayoutView",
            "align_content": null,
            "align_items": null,
            "align_self": null,
            "border": null,
            "bottom": null,
            "display": null,
            "flex": null,
            "flex_flow": null,
            "grid_area": null,
            "grid_auto_columns": null,
            "grid_auto_flow": null,
            "grid_auto_rows": null,
            "grid_column": null,
            "grid_gap": null,
            "grid_row": null,
            "grid_template_areas": null,
            "grid_template_columns": null,
            "grid_template_rows": null,
            "height": null,
            "justify_content": null,
            "justify_items": null,
            "left": null,
            "margin": null,
            "max_height": null,
            "max_width": null,
            "min_height": null,
            "min_width": null,
            "object_fit": null,
            "object_position": null,
            "order": null,
            "overflow": null,
            "overflow_x": null,
            "overflow_y": null,
            "padding": null,
            "right": null,
            "top": null,
            "visibility": null,
            "width": null
          }
        },
        "45b6b8e4c58b4c698cfafaef247aef69": {
          "model_module": "@jupyter-widgets/base",
          "model_name": "LayoutModel",
          "model_module_version": "1.2.0",
          "state": {
            "_model_module": "@jupyter-widgets/base",
            "_model_module_version": "1.2.0",
            "_model_name": "LayoutModel",
            "_view_count": null,
            "_view_module": "@jupyter-widgets/base",
            "_view_module_version": "1.2.0",
            "_view_name": "LayoutView",
            "align_content": null,
            "align_items": null,
            "align_self": null,
            "border": null,
            "bottom": null,
            "display": null,
            "flex": null,
            "flex_flow": null,
            "grid_area": null,
            "grid_auto_columns": null,
            "grid_auto_flow": null,
            "grid_auto_rows": null,
            "grid_column": null,
            "grid_gap": null,
            "grid_row": null,
            "grid_template_areas": null,
            "grid_template_columns": null,
            "grid_template_rows": null,
            "height": null,
            "justify_content": null,
            "justify_items": null,
            "left": null,
            "margin": null,
            "max_height": null,
            "max_width": null,
            "min_height": null,
            "min_width": null,
            "object_fit": null,
            "object_position": null,
            "order": null,
            "overflow": null,
            "overflow_x": null,
            "overflow_y": null,
            "padding": null,
            "right": null,
            "top": null,
            "visibility": null,
            "width": null
          }
        },
        "a48b9fd636514294a297e1d43241ac55": {
          "model_module": "@jupyter-widgets/controls",
          "model_name": "DescriptionStyleModel",
          "model_module_version": "1.5.0",
          "state": {
            "_model_module": "@jupyter-widgets/controls",
            "_model_module_version": "1.5.0",
            "_model_name": "DescriptionStyleModel",
            "_view_count": null,
            "_view_module": "@jupyter-widgets/base",
            "_view_module_version": "1.2.0",
            "_view_name": "StyleView",
            "description_width": ""
          }
        },
        "4fc3500781b4400c9e4c3b6906cc30ed": {
          "model_module": "@jupyter-widgets/base",
          "model_name": "LayoutModel",
          "model_module_version": "1.2.0",
          "state": {
            "_model_module": "@jupyter-widgets/base",
            "_model_module_version": "1.2.0",
            "_model_name": "LayoutModel",
            "_view_count": null,
            "_view_module": "@jupyter-widgets/base",
            "_view_module_version": "1.2.0",
            "_view_name": "LayoutView",
            "align_content": null,
            "align_items": null,
            "align_self": null,
            "border": null,
            "bottom": null,
            "display": null,
            "flex": null,
            "flex_flow": null,
            "grid_area": null,
            "grid_auto_columns": null,
            "grid_auto_flow": null,
            "grid_auto_rows": null,
            "grid_column": null,
            "grid_gap": null,
            "grid_row": null,
            "grid_template_areas": null,
            "grid_template_columns": null,
            "grid_template_rows": null,
            "height": null,
            "justify_content": null,
            "justify_items": null,
            "left": null,
            "margin": null,
            "max_height": null,
            "max_width": null,
            "min_height": null,
            "min_width": null,
            "object_fit": null,
            "object_position": null,
            "order": null,
            "overflow": null,
            "overflow_x": null,
            "overflow_y": null,
            "padding": null,
            "right": null,
            "top": null,
            "visibility": null,
            "width": null
          }
        },
        "a421b523928144b7a7ccf01e378b7c66": {
          "model_module": "@jupyter-widgets/controls",
          "model_name": "ProgressStyleModel",
          "model_module_version": "1.5.0",
          "state": {
            "_model_module": "@jupyter-widgets/controls",
            "_model_module_version": "1.5.0",
            "_model_name": "ProgressStyleModel",
            "_view_count": null,
            "_view_module": "@jupyter-widgets/base",
            "_view_module_version": "1.2.0",
            "_view_name": "StyleView",
            "bar_color": null,
            "description_width": ""
          }
        },
        "80ddda021c59409f9c90bb6ec061646c": {
          "model_module": "@jupyter-widgets/base",
          "model_name": "LayoutModel",
          "model_module_version": "1.2.0",
          "state": {
            "_model_module": "@jupyter-widgets/base",
            "_model_module_version": "1.2.0",
            "_model_name": "LayoutModel",
            "_view_count": null,
            "_view_module": "@jupyter-widgets/base",
            "_view_module_version": "1.2.0",
            "_view_name": "LayoutView",
            "align_content": null,
            "align_items": null,
            "align_self": null,
            "border": null,
            "bottom": null,
            "display": null,
            "flex": null,
            "flex_flow": null,
            "grid_area": null,
            "grid_auto_columns": null,
            "grid_auto_flow": null,
            "grid_auto_rows": null,
            "grid_column": null,
            "grid_gap": null,
            "grid_row": null,
            "grid_template_areas": null,
            "grid_template_columns": null,
            "grid_template_rows": null,
            "height": null,
            "justify_content": null,
            "justify_items": null,
            "left": null,
            "margin": null,
            "max_height": null,
            "max_width": null,
            "min_height": null,
            "min_width": null,
            "object_fit": null,
            "object_position": null,
            "order": null,
            "overflow": null,
            "overflow_x": null,
            "overflow_y": null,
            "padding": null,
            "right": null,
            "top": null,
            "visibility": null,
            "width": null
          }
        },
        "9f6ce1d2e77b45a8b89ff8dcfb791c22": {
          "model_module": "@jupyter-widgets/controls",
          "model_name": "DescriptionStyleModel",
          "model_module_version": "1.5.0",
          "state": {
            "_model_module": "@jupyter-widgets/controls",
            "_model_module_version": "1.5.0",
            "_model_name": "DescriptionStyleModel",
            "_view_count": null,
            "_view_module": "@jupyter-widgets/base",
            "_view_module_version": "1.2.0",
            "_view_name": "StyleView",
            "description_width": ""
          }
        },
        "afd3862ea76c40f2bb4d400d618a3d6f": {
          "model_module": "@jupyter-widgets/controls",
          "model_name": "HBoxModel",
          "model_module_version": "1.5.0",
          "state": {
            "_dom_classes": [],
            "_model_module": "@jupyter-widgets/controls",
            "_model_module_version": "1.5.0",
            "_model_name": "HBoxModel",
            "_view_count": null,
            "_view_module": "@jupyter-widgets/controls",
            "_view_module_version": "1.5.0",
            "_view_name": "HBoxView",
            "box_style": "",
            "children": [
              "IPY_MODEL_3e8af8b37db043428632ed315cd4cfe4",
              "IPY_MODEL_db023c0b6f6444818111d0f6299b5fab",
              "IPY_MODEL_110f94008ea942218d57378ca356912e"
            ],
            "layout": "IPY_MODEL_7536c96da30748e5a9a762f40c87bcf8"
          }
        },
        "3e8af8b37db043428632ed315cd4cfe4": {
          "model_module": "@jupyter-widgets/controls",
          "model_name": "HTMLModel",
          "model_module_version": "1.5.0",
          "state": {
            "_dom_classes": [],
            "_model_module": "@jupyter-widgets/controls",
            "_model_module_version": "1.5.0",
            "_model_name": "HTMLModel",
            "_view_count": null,
            "_view_module": "@jupyter-widgets/controls",
            "_view_module_version": "1.5.0",
            "_view_name": "HTMLView",
            "description": "",
            "description_tooltip": null,
            "layout": "IPY_MODEL_d72da4d04a80417d933bc6b494902efc",
            "placeholder": "​",
            "style": "IPY_MODEL_a8bda9f7e99444dc8fb8baedafe384f5",
            "value": "Downloading: 100%"
          }
        },
        "db023c0b6f6444818111d0f6299b5fab": {
          "model_module": "@jupyter-widgets/controls",
          "model_name": "FloatProgressModel",
          "model_module_version": "1.5.0",
          "state": {
            "_dom_classes": [],
            "_model_module": "@jupyter-widgets/controls",
            "_model_module_version": "1.5.0",
            "_model_name": "FloatProgressModel",
            "_view_count": null,
            "_view_module": "@jupyter-widgets/controls",
            "_view_module_version": "1.5.0",
            "_view_name": "ProgressView",
            "bar_style": "success",
            "description": "",
            "description_tooltip": null,
            "layout": "IPY_MODEL_cf926d1821f947a7b28432d17abb993a",
            "max": 479,
            "min": 0,
            "orientation": "horizontal",
            "style": "IPY_MODEL_539d50e5ca934484bf6e5e7dd2c1bd6a",
            "value": 479
          }
        },
        "110f94008ea942218d57378ca356912e": {
          "model_module": "@jupyter-widgets/controls",
          "model_name": "HTMLModel",
          "model_module_version": "1.5.0",
          "state": {
            "_dom_classes": [],
            "_model_module": "@jupyter-widgets/controls",
            "_model_module_version": "1.5.0",
            "_model_name": "HTMLModel",
            "_view_count": null,
            "_view_module": "@jupyter-widgets/controls",
            "_view_module_version": "1.5.0",
            "_view_name": "HTMLView",
            "description": "",
            "description_tooltip": null,
            "layout": "IPY_MODEL_8bfd3b7c6556458c96f40091db2fcf51",
            "placeholder": "​",
            "style": "IPY_MODEL_9916f31726654519877ba4bd5caea749",
            "value": " 479/479 [00:00&lt;00:00, 8.28kB/s]"
          }
        },
        "7536c96da30748e5a9a762f40c87bcf8": {
          "model_module": "@jupyter-widgets/base",
          "model_name": "LayoutModel",
          "model_module_version": "1.2.0",
          "state": {
            "_model_module": "@jupyter-widgets/base",
            "_model_module_version": "1.2.0",
            "_model_name": "LayoutModel",
            "_view_count": null,
            "_view_module": "@jupyter-widgets/base",
            "_view_module_version": "1.2.0",
            "_view_name": "LayoutView",
            "align_content": null,
            "align_items": null,
            "align_self": null,
            "border": null,
            "bottom": null,
            "display": null,
            "flex": null,
            "flex_flow": null,
            "grid_area": null,
            "grid_auto_columns": null,
            "grid_auto_flow": null,
            "grid_auto_rows": null,
            "grid_column": null,
            "grid_gap": null,
            "grid_row": null,
            "grid_template_areas": null,
            "grid_template_columns": null,
            "grid_template_rows": null,
            "height": null,
            "justify_content": null,
            "justify_items": null,
            "left": null,
            "margin": null,
            "max_height": null,
            "max_width": null,
            "min_height": null,
            "min_width": null,
            "object_fit": null,
            "object_position": null,
            "order": null,
            "overflow": null,
            "overflow_x": null,
            "overflow_y": null,
            "padding": null,
            "right": null,
            "top": null,
            "visibility": null,
            "width": null
          }
        },
        "d72da4d04a80417d933bc6b494902efc": {
          "model_module": "@jupyter-widgets/base",
          "model_name": "LayoutModel",
          "model_module_version": "1.2.0",
          "state": {
            "_model_module": "@jupyter-widgets/base",
            "_model_module_version": "1.2.0",
            "_model_name": "LayoutModel",
            "_view_count": null,
            "_view_module": "@jupyter-widgets/base",
            "_view_module_version": "1.2.0",
            "_view_name": "LayoutView",
            "align_content": null,
            "align_items": null,
            "align_self": null,
            "border": null,
            "bottom": null,
            "display": null,
            "flex": null,
            "flex_flow": null,
            "grid_area": null,
            "grid_auto_columns": null,
            "grid_auto_flow": null,
            "grid_auto_rows": null,
            "grid_column": null,
            "grid_gap": null,
            "grid_row": null,
            "grid_template_areas": null,
            "grid_template_columns": null,
            "grid_template_rows": null,
            "height": null,
            "justify_content": null,
            "justify_items": null,
            "left": null,
            "margin": null,
            "max_height": null,
            "max_width": null,
            "min_height": null,
            "min_width": null,
            "object_fit": null,
            "object_position": null,
            "order": null,
            "overflow": null,
            "overflow_x": null,
            "overflow_y": null,
            "padding": null,
            "right": null,
            "top": null,
            "visibility": null,
            "width": null
          }
        },
        "a8bda9f7e99444dc8fb8baedafe384f5": {
          "model_module": "@jupyter-widgets/controls",
          "model_name": "DescriptionStyleModel",
          "model_module_version": "1.5.0",
          "state": {
            "_model_module": "@jupyter-widgets/controls",
            "_model_module_version": "1.5.0",
            "_model_name": "DescriptionStyleModel",
            "_view_count": null,
            "_view_module": "@jupyter-widgets/base",
            "_view_module_version": "1.2.0",
            "_view_name": "StyleView",
            "description_width": ""
          }
        },
        "cf926d1821f947a7b28432d17abb993a": {
          "model_module": "@jupyter-widgets/base",
          "model_name": "LayoutModel",
          "model_module_version": "1.2.0",
          "state": {
            "_model_module": "@jupyter-widgets/base",
            "_model_module_version": "1.2.0",
            "_model_name": "LayoutModel",
            "_view_count": null,
            "_view_module": "@jupyter-widgets/base",
            "_view_module_version": "1.2.0",
            "_view_name": "LayoutView",
            "align_content": null,
            "align_items": null,
            "align_self": null,
            "border": null,
            "bottom": null,
            "display": null,
            "flex": null,
            "flex_flow": null,
            "grid_area": null,
            "grid_auto_columns": null,
            "grid_auto_flow": null,
            "grid_auto_rows": null,
            "grid_column": null,
            "grid_gap": null,
            "grid_row": null,
            "grid_template_areas": null,
            "grid_template_columns": null,
            "grid_template_rows": null,
            "height": null,
            "justify_content": null,
            "justify_items": null,
            "left": null,
            "margin": null,
            "max_height": null,
            "max_width": null,
            "min_height": null,
            "min_width": null,
            "object_fit": null,
            "object_position": null,
            "order": null,
            "overflow": null,
            "overflow_x": null,
            "overflow_y": null,
            "padding": null,
            "right": null,
            "top": null,
            "visibility": null,
            "width": null
          }
        },
        "539d50e5ca934484bf6e5e7dd2c1bd6a": {
          "model_module": "@jupyter-widgets/controls",
          "model_name": "ProgressStyleModel",
          "model_module_version": "1.5.0",
          "state": {
            "_model_module": "@jupyter-widgets/controls",
            "_model_module_version": "1.5.0",
            "_model_name": "ProgressStyleModel",
            "_view_count": null,
            "_view_module": "@jupyter-widgets/base",
            "_view_module_version": "1.2.0",
            "_view_name": "StyleView",
            "bar_color": null,
            "description_width": ""
          }
        },
        "8bfd3b7c6556458c96f40091db2fcf51": {
          "model_module": "@jupyter-widgets/base",
          "model_name": "LayoutModel",
          "model_module_version": "1.2.0",
          "state": {
            "_model_module": "@jupyter-widgets/base",
            "_model_module_version": "1.2.0",
            "_model_name": "LayoutModel",
            "_view_count": null,
            "_view_module": "@jupyter-widgets/base",
            "_view_module_version": "1.2.0",
            "_view_name": "LayoutView",
            "align_content": null,
            "align_items": null,
            "align_self": null,
            "border": null,
            "bottom": null,
            "display": null,
            "flex": null,
            "flex_flow": null,
            "grid_area": null,
            "grid_auto_columns": null,
            "grid_auto_flow": null,
            "grid_auto_rows": null,
            "grid_column": null,
            "grid_gap": null,
            "grid_row": null,
            "grid_template_areas": null,
            "grid_template_columns": null,
            "grid_template_rows": null,
            "height": null,
            "justify_content": null,
            "justify_items": null,
            "left": null,
            "margin": null,
            "max_height": null,
            "max_width": null,
            "min_height": null,
            "min_width": null,
            "object_fit": null,
            "object_position": null,
            "order": null,
            "overflow": null,
            "overflow_x": null,
            "overflow_y": null,
            "padding": null,
            "right": null,
            "top": null,
            "visibility": null,
            "width": null
          }
        },
        "9916f31726654519877ba4bd5caea749": {
          "model_module": "@jupyter-widgets/controls",
          "model_name": "DescriptionStyleModel",
          "model_module_version": "1.5.0",
          "state": {
            "_model_module": "@jupyter-widgets/controls",
            "_model_module_version": "1.5.0",
            "_model_name": "DescriptionStyleModel",
            "_view_count": null,
            "_view_module": "@jupyter-widgets/base",
            "_view_module_version": "1.2.0",
            "_view_name": "StyleView",
            "description_width": ""
          }
        }
      }
    }
  },
  "cells": [
    {
      "cell_type": "markdown",
      "metadata": {
        "id": "view-in-github",
        "colab_type": "text"
      },
      "source": [
        "<a href=\"https://colab.research.google.com/github/otanet/search_engine_improvement_202208-/blob/main/%E5%88%86%E3%81%8B%E3%81%A1%E6%9B%B8%E3%81%8D_%E3%82%AB%E3%82%A6%E3%83%B3%E3%83%88%E3%81%A8%E6%8E%A8%E8%AB%96%E6%89%8B%E6%B3%95%E3%81%AE%E6%AF%94%E8%BC%83_202209_ipynb_DRAFT.ipynb\" target=\"_parent\"><img src=\"https://colab.research.google.com/assets/colab-badge.svg\" alt=\"Open In Colab\"/></a>"
      ]
    },
    {
      "cell_type": "markdown",
      "source": [
        "### ここでの目的：分かち書きをするとヒットする場合、この分かち書きの現行のツールでどこまでできるかをしめしたものです。\n",
        "### ※OSSの検索エンジンに頼らないで、自然言語処理の技術でどこまで対応できるか検索したものです。\n",
        "\n",
        "### ⇒結論として、人手の辞書登録のメンテナンスが必須となります。\n",
        "### ※OSSの検索エンジンを導入した場合、人手の辞書登録は半自動となると思います。\n",
        "\n",
        "#### 以下の2つの事例で考察してみました。\n",
        "#### 例1) 「すとぷり青春チョコレート」\n",
        "#### →「すとぷり」と「青春チョコレート」に分けると検索でヒットする。\n",
        "\n",
        "#### 例2) YOASOBIラブレター\n",
        "#### →「YOASOBI」と「ラブレター」に分けるとヒットする。\n",
        "\n",
        "#### ⇒分かち書きのツールは大きく2つに分かれます。\n",
        "#### 1)「カウントベース」: 統計情報から単語を表現する手法\n",
        "→Mecab/Juman/Janomeなど\n",
        "\n",
        "####「カウントベース」とは、統計情報から単語を表現する手法のことで、もう一つは、「推論ベース」というニューラルネットワークの手法があります。\n",
        "\n",
        "#### カウントベースの手法として、文字や単語の「連なり」の頻度分布N-gramをもとに文を生成するプログラムを考えます。\n",
        "\n",
        "#### 以下の辞書に固有名詞を追加することで、「すとぷり」を一語とみなすように、対応するようにします。\n",
        "\n",
        "#### 「ipadic」や「ipadic-neologd」\n",
        "\n",
        "#### 一方、推論ベースの手法は、対象となる文書をもとに言語モデルが構築されるため、あまり制御が効かない可能性があります。\n",
        "\n",
        "#### 2) 「推論ベース」\n",
        "主要な歌詞のサイトの表記には対応が見込める反面、辞書登録とのシステムの設計に考慮する必要があります。"
      ],
      "metadata": {
        "id": "stBdBMeZoPCy"
      }
    },
    {
      "cell_type": "markdown",
      "source": [
        "まとめ    \n",
        "今回、検索キーワードに、スペース区切りのないケースがGA上で多く見受けられました。\n",
        "\n",
        "例1)「すとぷり青春チョコレート」→「すとぷり」 「青春チョコレート」    \n",
        "例2)「YOASOBIラブレター」→「YOASOBI」 「ラブレター」    \n",
        "\n",
        "→この対応ができると、PV数が最も向上すると想定しました。※大文字小文字の対応に比べて。    \n",
        "今回、分かち書きを通じて、カウント手法と推論手法とを比較考察しました。    \n",
        "OSSの検索エンジンを導入しない場合と導入した場合とを考えることにもなりました。\n",
        "\n",
        "カウント手法なら、辞書登録が必要になりますが、別の例でも、その語句で分かち書きが出てきてしまう懸念があります。    \n",
        "一方、推論手法なら、クロール先の歌詞や音楽の文書を確保することが前提となり、ここでの表記の仕方に左右されます。    \n",
        "後者はOSSの検索エンジンの導入が考えられます。\n",
        "\n",
        "これらから、辞書登録とOSSの検索エンジンの導入との検討材料になればと思います。"
      ],
      "metadata": {
        "id": "eLz8T2EVKxsF"
      }
    },
    {
      "cell_type": "markdown",
      "source": [
        "## まず、→Mecab/Juman/Janomeなどの「カウントベース」の手法から見てゆきましょう。"
      ],
      "metadata": {
        "id": "S_gN08rTCKVB"
      }
    },
    {
      "cell_type": "markdown",
      "source": [
        "1) Mecabという形態素解析のツールで試してみます。    \n",
        "「YOASOBIラブレター」    \n",
        "「すとぷり青春チョコレート」"
      ],
      "metadata": {
        "id": "lzgDBgxK4rHT"
      }
    },
    {
      "cell_type": "code",
      "source": [
        "# 文章の場合→うまくゆきます！\n",
        "! pip install mecab-python3 unidic-lite\n",
        "import MeCab\n",
        "print(MeCab.Tagger().parse(\"JKしか勝たん\"))"
      ],
      "metadata": {
        "colab": {
          "base_uri": "https://localhost:8080/"
        },
        "id": "M5IN38ugoPMb",
        "outputId": "65b3e141-ab1b-4b23-8851-feb1dc7c8ef0"
      },
      "execution_count": null,
      "outputs": [
        {
          "output_type": "stream",
          "name": "stdout",
          "text": [
            "Looking in indexes: https://pypi.org/simple, https://us-python.pkg.dev/colab-wheels/public/simple/\n",
            "Collecting mecab-python3\n",
            "  Downloading mecab_python3-1.0.5-cp37-cp37m-manylinux_2_17_x86_64.manylinux2014_x86_64.whl (574 kB)\n",
            "\u001b[K     |████████████████████████████████| 574 kB 20.2 MB/s \n",
            "\u001b[?25hCollecting unidic-lite\n",
            "  Downloading unidic-lite-1.0.8.tar.gz (47.4 MB)\n",
            "\u001b[K     |████████████████████████████████| 47.4 MB 2.3 MB/s \n",
            "\u001b[?25hBuilding wheels for collected packages: unidic-lite\n",
            "  Building wheel for unidic-lite (setup.py) ... \u001b[?25l\u001b[?25hdone\n",
            "  Created wheel for unidic-lite: filename=unidic_lite-1.0.8-py3-none-any.whl size=47658836 sha256=6dc9a6dbac1f42bd8995c388c5c44fb4d24eced7df40673113f7363f3d248ba3\n",
            "  Stored in directory: /root/.cache/pip/wheels/de/69/b1/112140b599f2b13f609d485a99e357ba68df194d2079c5b1a2\n",
            "Successfully built unidic-lite\n",
            "Installing collected packages: unidic-lite, mecab-python3\n",
            "Successfully installed mecab-python3-1.0.5 unidic-lite-1.0.8\n",
            "JK\tJK\tJK\tJK\t名詞-普通名詞-一般\t\t\t0\n",
            "しか\tシカ\tシカ\tしか\t助詞-副助詞\t\t\t\n",
            "勝た\tカタ\tカツ\t勝つ\t動詞-一般\t五段-タ行\t未然形-一般\t1\n",
            "ん\tン\tズ\tず\t助動詞\t助動詞-ヌ\t終止形-撥音便\t\n",
            "EOS\n",
            "\n"
          ]
        }
      ]
    },
    {
      "cell_type": "code",
      "source": [
        "# 検索キーワードが「YOASOBIラブレター」の場合、単語や語句の場合\n",
        "! pip install mecab-python3 unidic-lite\n",
        "import MeCab\n",
        "print(MeCab.Tagger().parse(\"YOASOBIラブレター\"))"
      ],
      "metadata": {
        "colab": {
          "base_uri": "https://localhost:8080/"
        },
        "id": "1ihGyvt0pKSj",
        "outputId": "d4ce056f-3160-435d-b7be-b37974fd41f1"
      },
      "execution_count": null,
      "outputs": [
        {
          "output_type": "stream",
          "name": "stdout",
          "text": [
            "Looking in indexes: https://pypi.org/simple, https://us-python.pkg.dev/colab-wheels/public/simple/\n",
            "Requirement already satisfied: mecab-python3 in /usr/local/lib/python3.7/dist-packages (1.0.5)\n",
            "Requirement already satisfied: unidic-lite in /usr/local/lib/python3.7/dist-packages (1.0.8)\n",
            "YOASOBI\tYOASOBI\tYOASOBI\tYOASOBI\t名詞-普通名詞-一般\t\t\t0\n",
            "ラブ\tラブ\tラブ\tラブ-love\t名詞-普通名詞-一般\t\t\t1\n",
            "レター\tレター\tレター\tレター-letter\t名詞-普通名詞-一般\t\t\t1\n",
            "EOS\n",
            "\n"
          ]
        }
      ]
    },
    {
      "cell_type": "markdown",
      "source": [
        "「YOASOBIラブレター」    \n",
        "⇒結果は「YOASOBI」 「ラブ」 「レター」\n",
        "\n",
        "→「YOASOBI」と「ラブレター」とにわかれませんでした。\n",
        "→→この場合、「ラブレター」を一語で辞書登録する必要があります。"
      ],
      "metadata": {
        "id": "GgRDQToyCmhq"
      }
    },
    {
      "cell_type": "code",
      "source": [
        "! pip install mecab-python3 unidic-lite\n",
        "import MeCab\n",
        "print(MeCab.Tagger().parse(\"すとぷり青春チョコレート\"))"
      ],
      "metadata": {
        "colab": {
          "base_uri": "https://localhost:8080/"
        },
        "id": "S9O10xLiqjku",
        "outputId": "1aec50ff-7f6b-4e4b-d417-3045ea5da80f"
      },
      "execution_count": null,
      "outputs": [
        {
          "output_type": "stream",
          "name": "stdout",
          "text": [
            "Looking in indexes: https://pypi.org/simple, https://us-python.pkg.dev/colab-wheels/public/simple/\n",
            "Requirement already satisfied: mecab-python3 in /usr/local/lib/python3.7/dist-packages (1.0.5)\n",
            "Requirement already satisfied: unidic-lite in /usr/local/lib/python3.7/dist-packages (1.0.8)\n",
            "す\tス\tデス\tです\t助動詞\t助動詞-デス\t終止形-一般\t\n",
            "と\tト\tト\tと\t助詞-接続助詞\t\t\t\n",
            "ぷり\tプリ\tフリ\t振り\t名詞-普通名詞-助数詞可能\t\t\t0,2\n",
            "青春\tセーシュン\tセイシュン\t青春\t名詞-普通名詞-一般\t\t\t0\n",
            "チョコレート\tチョコレート\tチョコレート\tチョコレート-chocolate\t名詞-普通名詞-一般\t\t\t3\n",
            "EOS\n",
            "\n"
          ]
        }
      ]
    },
    {
      "cell_type": "markdown",
      "source": [
        "「すとぷり青春チョコレート」\n",
        "\n",
        "⇒結果は「す」 「と」 「ぷり」「青春」 「チョコレート」\n",
        "\n",
        "→「すとぷり」と「青春チョコレート」とにわかれませんでした。    \n",
        "→→この場合、「青春チョコレート」を一語で辞書登録する必要があります。\n",
        "→→→この辞書登録は現実的でしょうか??"
      ],
      "metadata": {
        "id": "rOJw8T8xDSew"
      }
    },
    {
      "cell_type": "markdown",
      "source": [
        "2) janomeという形態素解析のツールで試してみます。    \n",
        "「YOASOBIラブレター」    \n",
        "「すとぷり青春チョコレート」"
      ],
      "metadata": {
        "id": "3fsTKzLurt3f"
      }
    },
    {
      "cell_type": "code",
      "source": [
        "!pip install janome"
      ],
      "metadata": {
        "colab": {
          "base_uri": "https://localhost:8080/"
        },
        "id": "brDNg6n1rJwo",
        "outputId": "23e30416-219a-40a0-baae-e721ee104d89"
      },
      "execution_count": null,
      "outputs": [
        {
          "output_type": "stream",
          "name": "stdout",
          "text": [
            "Looking in indexes: https://pypi.org/simple, https://us-python.pkg.dev/colab-wheels/public/simple/\n",
            "Collecting janome\n",
            "  Downloading Janome-0.4.2-py2.py3-none-any.whl (19.7 MB)\n",
            "\u001b[K     |████████████████████████████████| 19.7 MB 1.3 MB/s \n",
            "\u001b[?25hInstalling collected packages: janome\n",
            "Successfully installed janome-0.4.2\n"
          ]
        }
      ]
    },
    {
      "cell_type": "markdown",
      "source": [],
      "metadata": {
        "id": "2AeyvOq2ERGk"
      }
    },
    {
      "cell_type": "code",
      "source": [
        "from janome.tokenizer import Tokenizer\n",
        "\n",
        "t = Tokenizer()\n",
        "tokens = t.tokenize(\"YOASOBIラブレター\")\n",
        "for token in tokens:\n",
        "  print(token)"
      ],
      "metadata": {
        "colab": {
          "base_uri": "https://localhost:8080/"
        },
        "id": "lk9qspt2rw3N",
        "outputId": "d7c001e8-d34c-488d-b656-e06f6ac8498a"
      },
      "execution_count": null,
      "outputs": [
        {
          "output_type": "stream",
          "name": "stdout",
          "text": [
            "YOASOBI\t名詞,固有名詞,組織,*,*,*,YOASOBI,*,*\n",
            "ラブレター\t名詞,一般,*,*,*,*,ラブレター,ラブレター,ラブレター\n"
          ]
        }
      ]
    },
    {
      "cell_type": "markdown",
      "source": [
        "結果:\n",
        "「YOASOBIラブレター」\n",
        "⇒結果は「YOASOBI」 「ラブレター」です。\n",
        "→うまく、分かち書きされました！"
      ],
      "metadata": {
        "id": "jhqdGjz6EGHx"
      }
    },
    {
      "cell_type": "code",
      "source": [
        "from janome.tokenizer import Tokenizer\n",
        "\n",
        "t = Tokenizer()\n",
        "tokens = t.tokenize(\"すとぷり青春チョコレート\")\n",
        "for token in tokens:\n",
        "  print(token)"
      ],
      "metadata": {
        "colab": {
          "base_uri": "https://localhost:8080/"
        },
        "id": "yMqH852rrw5U",
        "outputId": "8cd6cba1-4bab-4457-ed92-8d8b8b4d2c69"
      },
      "execution_count": null,
      "outputs": [
        {
          "output_type": "stream",
          "name": "stdout",
          "text": [
            "す\t名詞,一般,*,*,*,*,す,ス,ス\n",
            "と\t助詞,並立助詞,*,*,*,*,と,ト,ト\n",
            "ぷり\t名詞,一般,*,*,*,*,ぷり,*,*\n",
            "青春\t名詞,一般,*,*,*,*,青春,セイシュン,セイシュン\n",
            "チョコレート\t名詞,一般,*,*,*,*,チョコレート,チョコレート,チョコレート\n"
          ]
        }
      ]
    },
    {
      "cell_type": "markdown",
      "source": [
        "「すとぷり青春チョコレート」の結果:\n",
        "⇒結果は「す」 「と」 「ぷり」 「青春」 「チョコレート」でした。\n",
        "\n",
        "→うまく、分かち書きされませんでした！\n",
        "→→辞書登録の必要はありますが、すとぷり青春で一語になってしまう懸念が考えられます！⇒「すとぷり」と「青春」では分かち書きできなくなる可能性があります。"
      ],
      "metadata": {
        "id": "K5cszgmIs-f8"
      }
    },
    {
      "cell_type": "markdown",
      "source": [
        "以下は新語に強く人力で辞書登録されているNeologDの例です。\n",
        "ここではまだ登録されていないので、結果は同じです。"
      ],
      "metadata": {
        "id": "fWyV7uVsFy4S"
      }
    },
    {
      "cell_type": "code",
      "source": [
        "# install MeCab\n",
        "!apt-get -q -y install sudo file mecab libmecab-dev mecab-ipadic-utf8 git curl python-mecab > /dev/null\n",
        "!git clone --depth 1 https://github.com/neologd/mecab-ipadic-neologd.git > /dev/null \n",
        "!echo yes | mecab-ipadic-neologd/bin/install-mecab-ipadic-neologd -n > /dev/null 2>&1\n",
        "!pip install mecab-python3 > /dev/null"
      ],
      "metadata": {
        "colab": {
          "base_uri": "https://localhost:8080/"
        },
        "id": "1HJGsa1Hrw9s",
        "outputId": "451b6661-f10b-4d40-891a-dc3a5d08cad4"
      },
      "execution_count": null,
      "outputs": [
        {
          "output_type": "stream",
          "name": "stdout",
          "text": [
            "Cloning into 'mecab-ipadic-neologd'...\n",
            "remote: Enumerating objects: 75, done.\u001b[K\n",
            "remote: Counting objects: 100% (75/75), done.\u001b[K\n",
            "remote: Compressing objects: 100% (74/74), done.\u001b[K\n",
            "remote: Total 75 (delta 5), reused 54 (delta 0), pack-reused 0\u001b[K\n",
            "Unpacking objects: 100% (75/75), done.\n"
          ]
        }
      ]
    },
    {
      "cell_type": "code",
      "source": [
        "# check path to \"ipadic-neologd\" \n",
        "!echo `mecab-config --dicdir`\"/mecab-ipadic-neologd\""
      ],
      "metadata": {
        "colab": {
          "base_uri": "https://localhost:8080/"
        },
        "id": "8PKQzMz6rw-j",
        "outputId": "b7987501-a3ac-40bd-abaa-543a8fcf201d"
      },
      "execution_count": null,
      "outputs": [
        {
          "output_type": "stream",
          "name": "stdout",
          "text": [
            "/usr/lib/x86_64-linux-gnu/mecab/dic/mecab-ipadic-neologd\n"
          ]
        }
      ]
    },
    {
      "cell_type": "code",
      "source": [
        "import MeCab"
      ],
      "metadata": {
        "id": "5o22RZeatweP"
      },
      "execution_count": null,
      "outputs": []
    },
    {
      "cell_type": "code",
      "source": [
        "m = MeCab.Tagger()\n",
        "sample_txt = \"すとぷり青春チョコレート\"\n",
        "print(\"Mecab:\\n\", m.parse(sample_txt))\n",
        "\n",
        "path = \"-d /usr/lib/x86_64-linux-gnu/mecab/dic/mecab-ipadic-neologd\"\n",
        "m = MeCab.Tagger(path)\n",
        "print(\"Mecab ipadic NEologd:\\n\",m.parse(sample_txt))"
      ],
      "metadata": {
        "colab": {
          "base_uri": "https://localhost:8080/"
        },
        "id": "lgifVh2YtyWI",
        "outputId": "9669b580-a16d-424f-81a0-234e12b1db74"
      },
      "execution_count": null,
      "outputs": [
        {
          "output_type": "stream",
          "name": "stdout",
          "text": [
            "Mecab:\n",
            " す\t助動詞,,,,助動詞-デス,終止形-一般,デス,です,す,ス,っす,ッス,和,\"\",\"\",\"\",\"\",\"\",\"\",助動,ス,ッス,ス,ッス,\"\",\"\",\"\",7051537469809637,25653\n",
            "と\t助詞,接続助詞,,,,,ト,と,と,ト,と,ト,和,\"\",\"\",\"\",\"\",\"\",\"\",接助,ト,ト,ト,ト,\"\",\"形容詞%F2@-1,動詞%F1\",\"\",7098730570457600,25825\n",
            "ぷり\t副詞,,,,,,プリ,ぷり,ぷり,プリ,ぷり,プリ,和,\"\",\"\",\"\",\"\",\"\",\"\",相,プリ,プリ,プリ,プリ,\"2\",\"\",\"\",38089573900886528,138569\n",
            "青春\t名詞,普通名詞,一般,,,,セイシュン,青春,青春,セーシュン,青春,セーシュン,漢,\"\",\"\",\"\",\"\",\"\",\"\",体,セイシュン,セイシュン,セイシュン,セイシュン,\"0\",\"C2\",\"\",5449463128793600,19825\n",
            "チョコレート\t名詞,普通名詞,一般,,,,チョコレート,チョコレート-chocolate,チョコレート,チョコレート,チョコレート,チョコレート,外,\"\",\"\",\"\",\"\",\"\",\"\",体,チョコレート,チョコレート,チョコレート,チョコレート,\"3\",\"C1\",\"\",6645182024000000,24175\n",
            "EOS\n",
            "\n",
            "Mecab ipadic NEologd:\n",
            " すと\t名詞,一般,*,*,*,*,スト,スト,スト\n",
            "ぷり\t名詞,一般,*,*,*,*,*\n",
            "青春\t名詞,一般,*,*,*,*,青春,セイシュン,セイシュン\n",
            "チョコレート\t名詞,一般,*,*,*,*,チョコレート,チョコレート,チョコレート\n",
            "EOS\n",
            "\n"
          ]
        }
      ]
    },
    {
      "cell_type": "code",
      "source": [
        "m = MeCab.Tagger()\n",
        "sample_txt = \"YOASOBIラブレター\"\n",
        "print(\"Mecab:\\n\", m.parse(sample_txt))\n",
        "\n",
        "path = \"-d /usr/lib/x86_64-linux-gnu/mecab/dic/mecab-ipadic-neologd\"\n",
        "m = MeCab.Tagger(path)\n",
        "print(\"Mecab ipadic NEologd:\\n\",m.parse(sample_txt))"
      ],
      "metadata": {
        "colab": {
          "base_uri": "https://localhost:8080/"
        },
        "id": "2sqCUpkYtwiz",
        "outputId": "2ae7d590-de6d-4aeb-d3e0-a06797ca27d9"
      },
      "execution_count": null,
      "outputs": [
        {
          "output_type": "stream",
          "name": "stdout",
          "text": [
            "Mecab:\n",
            " YOASOBI\t名詞,普通名詞,一般,,,\n",
            "ラブ\t名詞,普通名詞,一般,,,,ラブ,ラブ-love,ラブ,ラブ,ラブ,ラブ,外,\"\",\"\",\"\",\"\",\"\",\"\",体,ラブ,ラブ,ラブ,ラブ,\"1\",\"C3\",\"\",10929703993090560,39762\n",
            "レター\t名詞,普通名詞,一般,,,,レター,レター-letter,レター,レター,レター,レター,外,\"\",\"\",\"\",\"\",\"\",\"\",体,レター,レター,レター,レター,\"1\",\"C1\",\"\",11184790657180160,40690\n",
            "EOS\n",
            "\n",
            "Mecab ipadic NEologd:\n",
            " YOASOBI\t名詞,固有名詞,組織,*,*,*,*\n",
            "ラブレター\t名詞,一般,*,*,*,*,ラブレター,ラブレター,ラブレター\n",
            "EOS\n",
            "\n"
          ]
        }
      ]
    },
    {
      "cell_type": "markdown",
      "source": [
        "## 次に、→ニューラルネットワークの「推論ベース」の手法で試してみます。\n",
        "→ここでの辞書はWikipediaのサイトをクロール先としております。"
      ],
      "metadata": {
        "id": "Ph2uuswIGG8S"
      }
    },
    {
      "cell_type": "code",
      "source": [
        "!pip install transformers==4.18.0 fugashi==1.1.0 ipadic==1.0.0"
      ],
      "metadata": {
        "colab": {
          "base_uri": "https://localhost:8080/"
        },
        "id": "OTSso9HIrxDL",
        "outputId": "a1ad725b-ba1f-406b-c9eb-9db4294287a9"
      },
      "execution_count": null,
      "outputs": [
        {
          "output_type": "stream",
          "name": "stdout",
          "text": [
            "Looking in indexes: https://pypi.org/simple, https://us-python.pkg.dev/colab-wheels/public/simple/\n",
            "Collecting transformers==4.18.0\n",
            "  Downloading transformers-4.18.0-py3-none-any.whl (4.0 MB)\n",
            "\u001b[K     |████████████████████████████████| 4.0 MB 20.6 MB/s \n",
            "\u001b[?25hCollecting fugashi==1.1.0\n",
            "  Downloading fugashi-1.1.0-cp37-cp37m-manylinux1_x86_64.whl (486 kB)\n",
            "\u001b[K     |████████████████████████████████| 486 kB 39.6 MB/s \n",
            "\u001b[?25hCollecting ipadic==1.0.0\n",
            "  Downloading ipadic-1.0.0.tar.gz (13.4 MB)\n",
            "\u001b[K     |████████████████████████████████| 13.4 MB 36.1 MB/s \n",
            "\u001b[?25hRequirement already satisfied: packaging>=20.0 in /usr/local/lib/python3.7/dist-packages (from transformers==4.18.0) (21.3)\n",
            "Collecting huggingface-hub<1.0,>=0.1.0\n",
            "  Downloading huggingface_hub-0.9.1-py3-none-any.whl (120 kB)\n",
            "\u001b[K     |████████████████████████████████| 120 kB 36.2 MB/s \n",
            "\u001b[?25hRequirement already satisfied: regex!=2019.12.17 in /usr/local/lib/python3.7/dist-packages (from transformers==4.18.0) (2022.6.2)\n",
            "Requirement already satisfied: requests in /usr/local/lib/python3.7/dist-packages (from transformers==4.18.0) (2.23.0)\n",
            "Collecting sacremoses\n",
            "  Downloading sacremoses-0.0.53.tar.gz (880 kB)\n",
            "\u001b[K     |████████████████████████████████| 880 kB 41.4 MB/s \n",
            "\u001b[?25hRequirement already satisfied: importlib-metadata in /usr/local/lib/python3.7/dist-packages (from transformers==4.18.0) (4.12.0)\n",
            "Requirement already satisfied: tqdm>=4.27 in /usr/local/lib/python3.7/dist-packages (from transformers==4.18.0) (4.64.0)\n",
            "Collecting tokenizers!=0.11.3,<0.13,>=0.11.1\n",
            "  Downloading tokenizers-0.12.1-cp37-cp37m-manylinux_2_12_x86_64.manylinux2010_x86_64.whl (6.6 MB)\n",
            "\u001b[K     |████████████████████████████████| 6.6 MB 41.6 MB/s \n",
            "\u001b[?25hRequirement already satisfied: numpy>=1.17 in /usr/local/lib/python3.7/dist-packages (from transformers==4.18.0) (1.21.6)\n",
            "Requirement already satisfied: filelock in /usr/local/lib/python3.7/dist-packages (from transformers==4.18.0) (3.8.0)\n",
            "Requirement already satisfied: pyyaml>=5.1 in /usr/local/lib/python3.7/dist-packages (from transformers==4.18.0) (6.0)\n",
            "Requirement already satisfied: typing-extensions>=3.7.4.3 in /usr/local/lib/python3.7/dist-packages (from huggingface-hub<1.0,>=0.1.0->transformers==4.18.0) (4.1.1)\n",
            "Requirement already satisfied: pyparsing!=3.0.5,>=2.0.2 in /usr/local/lib/python3.7/dist-packages (from packaging>=20.0->transformers==4.18.0) (3.0.9)\n",
            "Requirement already satisfied: zipp>=0.5 in /usr/local/lib/python3.7/dist-packages (from importlib-metadata->transformers==4.18.0) (3.8.1)\n",
            "Requirement already satisfied: idna<3,>=2.5 in /usr/local/lib/python3.7/dist-packages (from requests->transformers==4.18.0) (2.10)\n",
            "Requirement already satisfied: urllib3!=1.25.0,!=1.25.1,<1.26,>=1.21.1 in /usr/local/lib/python3.7/dist-packages (from requests->transformers==4.18.0) (1.24.3)\n",
            "Requirement already satisfied: certifi>=2017.4.17 in /usr/local/lib/python3.7/dist-packages (from requests->transformers==4.18.0) (2022.6.15)\n",
            "Requirement already satisfied: chardet<4,>=3.0.2 in /usr/local/lib/python3.7/dist-packages (from requests->transformers==4.18.0) (3.0.4)\n",
            "Requirement already satisfied: six in /usr/local/lib/python3.7/dist-packages (from sacremoses->transformers==4.18.0) (1.15.0)\n",
            "Requirement already satisfied: click in /usr/local/lib/python3.7/dist-packages (from sacremoses->transformers==4.18.0) (7.1.2)\n",
            "Requirement already satisfied: joblib in /usr/local/lib/python3.7/dist-packages (from sacremoses->transformers==4.18.0) (1.1.0)\n",
            "Building wheels for collected packages: ipadic, sacremoses\n",
            "  Building wheel for ipadic (setup.py) ... \u001b[?25l\u001b[?25hdone\n",
            "  Created wheel for ipadic: filename=ipadic-1.0.0-py3-none-any.whl size=13556723 sha256=beb451d9f31be82849a19ee5dce761ead8f0a6ce17747b445f208f950c837c48\n",
            "  Stored in directory: /root/.cache/pip/wheels/33/8b/99/cf0d27191876637cd3639a560f93aa982d7855ce826c94348b\n",
            "  Building wheel for sacremoses (setup.py) ... \u001b[?25l\u001b[?25hdone\n",
            "  Created wheel for sacremoses: filename=sacremoses-0.0.53-py3-none-any.whl size=895260 sha256=d1a7b1de5d22f57c54cbc53320e477c1af9dc98b1bd3bcf5ab0080d8108c8d39\n",
            "  Stored in directory: /root/.cache/pip/wheels/87/39/dd/a83eeef36d0bf98e7a4d1933a4ad2d660295a40613079bafc9\n",
            "Successfully built ipadic sacremoses\n",
            "Installing collected packages: tokenizers, sacremoses, huggingface-hub, transformers, ipadic, fugashi\n",
            "Successfully installed fugashi-1.1.0 huggingface-hub-0.9.1 ipadic-1.0.0 sacremoses-0.0.53 tokenizers-0.12.1 transformers-4.18.0\n"
          ]
        }
      ]
    },
    {
      "cell_type": "code",
      "source": [
        "import torch\n",
        "from transformers import BertJapaneseTokenizer, BertModel"
      ],
      "metadata": {
        "id": "x42P-SnPxt1Z"
      },
      "execution_count": null,
      "outputs": []
    },
    {
      "cell_type": "code",
      "source": [
        "model_name = 'cl-tohoku/bert-base-japanese-whole-word-masking'\n",
        "tokenizer = BertJapaneseTokenizer.from_pretrained(model_name)"
      ],
      "metadata": {
        "colab": {
          "base_uri": "https://localhost:8080/",
          "height": 113,
          "referenced_widgets": [
            "d9670a49252d4406b046374f20f7f8a6",
            "cafdcdd91fd54a74a04e613681322922",
            "1227abd9fc37412580589c3b4bfc737a",
            "4faad88f3a584476bcd15a0122a33e4c",
            "eb0b6465e608495cb4e1364befc90e5c",
            "82ee49c739854492a5d9575a50fe760e",
            "f42d39515eab4d0b846bfd3b6dc7b83f",
            "8137f5bd8e66484abbaf5d91da8c899f",
            "cbfdc99f3fe54c0f838547a32e046b84",
            "124d78f734d542969bec8b878fe2b8eb",
            "0824488b306a44ee97cdaeb1ae38a3c1",
            "bf4b72073d354b8e8d7891d82d14ea76",
            "e4126cf325f24a1dbe102569f4660b55",
            "dadcb853ea8344f69a5b77c16888a180",
            "0e533d1cd80a45fa9fd92e9c07cdcf82",
            "00406698c8c54b67b31087bf3d9fd81c",
            "45b6b8e4c58b4c698cfafaef247aef69",
            "a48b9fd636514294a297e1d43241ac55",
            "4fc3500781b4400c9e4c3b6906cc30ed",
            "a421b523928144b7a7ccf01e378b7c66",
            "80ddda021c59409f9c90bb6ec061646c",
            "9f6ce1d2e77b45a8b89ff8dcfb791c22",
            "afd3862ea76c40f2bb4d400d618a3d6f",
            "3e8af8b37db043428632ed315cd4cfe4",
            "db023c0b6f6444818111d0f6299b5fab",
            "110f94008ea942218d57378ca356912e",
            "7536c96da30748e5a9a762f40c87bcf8",
            "d72da4d04a80417d933bc6b494902efc",
            "a8bda9f7e99444dc8fb8baedafe384f5",
            "cf926d1821f947a7b28432d17abb993a",
            "539d50e5ca934484bf6e5e7dd2c1bd6a",
            "8bfd3b7c6556458c96f40091db2fcf51",
            "9916f31726654519877ba4bd5caea749"
          ]
        },
        "id": "oIJ0i7VJxt5w",
        "outputId": "fdf49f33-c728-4c76-da26-b23d3b5eefe5"
      },
      "execution_count": null,
      "outputs": [
        {
          "output_type": "display_data",
          "data": {
            "text/plain": [
              "Downloading:   0%|          | 0.00/252k [00:00<?, ?B/s]"
            ],
            "application/vnd.jupyter.widget-view+json": {
              "version_major": 2,
              "version_minor": 0,
              "model_id": "d9670a49252d4406b046374f20f7f8a6"
            }
          },
          "metadata": {}
        },
        {
          "output_type": "display_data",
          "data": {
            "text/plain": [
              "Downloading:   0%|          | 0.00/110 [00:00<?, ?B/s]"
            ],
            "application/vnd.jupyter.widget-view+json": {
              "version_major": 2,
              "version_minor": 0,
              "model_id": "bf4b72073d354b8e8d7891d82d14ea76"
            }
          },
          "metadata": {}
        },
        {
          "output_type": "display_data",
          "data": {
            "text/plain": [
              "Downloading:   0%|          | 0.00/479 [00:00<?, ?B/s]"
            ],
            "application/vnd.jupyter.widget-view+json": {
              "version_major": 2,
              "version_minor": 0,
              "model_id": "afd3862ea76c40f2bb4d400d618a3d6f"
            }
          },
          "metadata": {}
        }
      ]
    },
    {
      "cell_type": "code",
      "source": [
        "# 文章での分かち書き\n",
        "tokenizer.tokenize('明日は自然言語処理の勉強をしよう。')"
      ],
      "metadata": {
        "colab": {
          "base_uri": "https://localhost:8080/"
        },
        "id": "lLfPaYG2yPHQ",
        "outputId": "479523f0-818c-4309-f836-6f7a21a2d818"
      },
      "execution_count": null,
      "outputs": [
        {
          "output_type": "execute_result",
          "data": {
            "text/plain": [
              "['明日', 'は', '自然', '言語', '処理', 'の', '勉強', 'を', 'しよ', 'う', '。']"
            ]
          },
          "metadata": {},
          "execution_count": 28
        }
      ]
    },
    {
      "cell_type": "code",
      "source": [
        "# 検索キーワードでの分かち書き　その1\n",
        "tokenizer.tokenize('すとぷり青春チョコレート')"
      ],
      "metadata": {
        "colab": {
          "base_uri": "https://localhost:8080/"
        },
        "id": "4r14q3-PxyBy",
        "outputId": "99830ea2-f8e8-48d5-8fb4-5dc5c5ffe4c0"
      },
      "execution_count": null,
      "outputs": [
        {
          "output_type": "execute_result",
          "data": {
            "text/plain": [
              "['す', 'と', 'ぷ', '##り', '青春', 'チョコレート']"
            ]
          },
          "metadata": {},
          "execution_count": 26
        }
      ]
    },
    {
      "cell_type": "code",
      "source": [
        "# 検索キーワードでの分かち書き　その2\n",
        "tokenizer.tokenize('YOASOBIラブレター')"
      ],
      "metadata": {
        "colab": {
          "base_uri": "https://localhost:8080/"
        },
        "id": "lENTchicxt6q",
        "outputId": "ea521783-90e8-4a08-86d3-11c09b9c13f1"
      },
      "execution_count": null,
      "outputs": [
        {
          "output_type": "execute_result",
          "data": {
            "text/plain": [
              "['YO', '##AS', '##O', '##BI', 'ラブ', '##レ', '##ター']"
            ]
          },
          "metadata": {},
          "execution_count": 27
        }
      ]
    },
    {
      "cell_type": "markdown",
      "source": [
        "## ここでは、やはり固有名詞のWebサイトや歌詞サイトのクロールが必要になります。\n",
        "## OSSのElasticsearchなどを用いるのが前提となり、辞書登録する手間が、音楽サイトやそれらの文書をクロールすることで、人力での辞書登録は半自動化となります。"
      ],
      "metadata": {
        "id": "8O7JLoeXyUWY"
      }
    },
    {
      "cell_type": "markdown",
      "source": [
        "まとめ    \n",
        "今回、検索キーワードに、スペース区切りのないケースがGA上で多く見受けられました。\n",
        "\n",
        "例1)「すとぷり青春チョコレート」→「すとぷり」 「青春チョコレート」    \n",
        "例2)「YOASOBIラブレター」→「YOASOBI」 「ラブレター」    \n",
        "\n",
        "→この対応ができると、PV数が最も向上すると想定しました。※大文字小文字の対応に比べて。    \n",
        "今回、分かち書きを通じて、カウント手法と推論手法とを比較考察しました。    \n",
        "OSSの検索エンジンを導入しない場合と導入した場合とを考えることにもなりました。\n",
        "\n",
        "カウント手法なら、辞書登録が必要になりますが、別の例でも、その語句で分かち書きが出てきてしまう懸念があります。    \n",
        "一方、推論手法なら、クロール先の歌詞や音楽の文書を確保することが前提となり、ここでの表記の仕方に左右されます。    \n",
        "後者はOSSの検索エンジンの導入が考えられます。\n",
        "\n",
        "これらから、辞書登録とOSSの検索エンジンの導入との検討材料になればと思います。"
      ],
      "metadata": {
        "id": "bgftq6gBIay1"
      }
    }
  ]
}